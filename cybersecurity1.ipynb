{
 "cells": [
  {
   "attachments": {},
   "cell_type": "markdown",
   "metadata": {},
   "source": [
    "AUTOMATE KEYSTROKES USING PYPNUT"
   ]
  },
  {
   "cell_type": "code",
   "execution_count": 1,
   "metadata": {},
   "outputs": [],
   "source": [
    "import pynput\n",
    "import random\n",
    "\n",
    "\n"
   ]
  },
  {
   "cell_type": "code",
   "execution_count": 2,
   "metadata": {},
   "outputs": [],
   "source": [
    "from pynput.keyboard import Key,Controller,Listener\n",
    "import time\n",
    "asakey=Controller()\n",
    "time.sleep(3)\n",
    "asakey.press('b')\n",
    "asakey.release('b')\n"
   ]
  },
  {
   "cell_type": "code",
   "execution_count": 11,
   "metadata": {},
   "outputs": [],
   "source": [
    "time.sleep(3)\n",
    "asakey.press(Key.cmd)\n",
    "asakey.release(Key.cmd)\n"
   ]
  },
  {
   "cell_type": "code",
   "execution_count": 17,
   "metadata": {},
   "outputs": [],
   "source": [
    "time.sleep(3)\n",
    "with asakey.pressed(Key.shift):\n",
    "    asakey.press('a')\n",
    "    asakey.release('a')"
   ]
  },
  {
   "cell_type": "code",
   "execution_count": 18,
   "metadata": {},
   "outputs": [],
   "source": [
    "time.sleep(3)\n",
    "sentence=\"This is not me ,this is keyloggerf\"\n",
    "asakey.type(sentence)"
   ]
  },
  {
   "cell_type": "code",
   "execution_count": 22,
   "metadata": {},
   "outputs": [
    {
     "name": "stdout",
     "output_type": "stream",
     "text": [
      "0.06330227735907144\n",
      "0.1817184760129598\n",
      "0.16230845730641305\n",
      "0.008896472396348432\n",
      "0.073077028263752\n",
      "0.13165451888226595\n",
      "0.18565209486651768\n",
      "0.07798561986876018\n",
      "0.11611360144634263\n",
      "0.05984101216629709\n",
      "0.08091875216438688\n",
      "0.10489376723982094\n",
      "0.1495475644272118\n",
      "0.008803426440520923\n",
      "0.03301303332987176\n",
      "0.16746353750955223\n",
      "0.08028706730200728\n",
      "0.1874835663392864\n",
      "0.1031949866208183\n",
      "0.1668933455315199\n",
      "0.039202288217908325\n",
      "0.054793312272029576\n",
      "0.18032340984301626\n",
      "0.16162504313946213\n",
      "0.11082577473891811\n",
      "0.011738750204170657\n",
      "0.15370900504482746\n",
      "0.17570822302475378\n",
      "0.05231683957491931\n",
      "0.07441223565887516\n",
      "0.028914893120510477\n",
      "0.08848553888356457\n",
      "0.17870623824750873\n",
      "0.009340141351142629\n"
     ]
    }
   ],
   "source": [
    "time.sleep(3)\n",
    "sentence=\"This is not me ,this is keyloggerf\"\n",
    "for c in sentence:\n",
    "    asakey.press(c)\n",
    "    asakey.release(c)\n",
    "    delay=random.uniform(0,0.2)\n",
    "    print(delay)\n",
    "    time.sleep(delay)"
   ]
  },
  {
   "cell_type": "code",
   "execution_count": 3,
   "metadata": {},
   "outputs": [
    {
     "name": "stdout",
     "output_type": "stream",
     "text": [
      "key pressed: 'h'\n",
      "key released: 'h'\n",
      "key pressed: 'i'\n",
      "key released: 'i'\n",
      "key pressed: Key.space\n",
      "key released: Key.space\n",
      "key pressed: 'b'\n",
      "key released: 'b'\n",
      "key pressed: 'u'\n",
      "key released: 'u'\n",
      "key pressed: 'd'\n",
      "key released: 'd'\n",
      "key pressed: 'd'\n",
      "key released: 'd'\n",
      "key pressed: 'i'\n",
      "key released: 'i'\n",
      "key pressed: 'e'\n",
      "key released: 'e'\n",
      "key pressed: 's'\n",
      "key released: 's'\n"
     ]
    }
   ],
   "source": [
    "def on_press(key):\n",
    "    print(\"key pressed:\",key)\n",
    "    \n",
    "def on_release(key):\n",
    "    print(\"key released:\",key)\n",
    "    \n",
    "with Listener(on_press=on_press,on_release=on_release) as listener:\n",
    "    listener.join()"
   ]
  }
 ],
 "metadata": {
  "kernelspec": {
   "display_name": "Python 3",
   "language": "python",
   "name": "python3"
  },
  "language_info": {
   "codemirror_mode": {
    "name": "ipython",
    "version": 3
   },
   "file_extension": ".py",
   "mimetype": "text/x-python",
   "name": "python",
   "nbconvert_exporter": "python",
   "pygments_lexer": "ipython3",
   "version": "3.10.7"
  },
  "orig_nbformat": 4
 },
 "nbformat": 4,
 "nbformat_minor": 2
}
